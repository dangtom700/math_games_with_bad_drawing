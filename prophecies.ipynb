{
 "cells": [
  {
   "attachments": {},
   "cell_type": "markdown",
   "metadata": {},
   "source": [
    "# Description\n",
    "\n",
    "This is a game found page 123 under the section of \"Number games\" in the book \"Math Games with Bad Drawings\", written by Ben Orlin.\n",
    "\n",
    "### Initital Idea\n",
    "A prephecy isn't just a prediction. It can even alter the future that it aims to forecast.\n",
    "\n",
    "In this game, there will be two players competing each other on a retangular grid. The goal of the game is to predict how many numbers will appear in a given row or column, by writing that number somwhere in the row or column.\n",
    "\n",
    "### **Rules for the game**\n",
    "1. Take turns marking empty cells with either a number or an X\n",
    "2. Each number is a prediction of how many will occur in that given row or column. Meanhwhile, an X fills up a spot, ensuring no number appears there. \n",
    "3. To avoid repeat prophecies, no number can appear twice in a given row or column.\n",
    "4. If a cell becomes impossible to fill, because any number would be a repeat prophecy, mark it with an X.\n",
    "5. Play until the board is full. Then, count the numbers appearing in each row. Whoever makes the correct prophecy in that row is awarded that number of points. The same goes for column. *A single prophecy may score twice on its row and column. Some rows or columns may contains no correct prophecies.*\n",
    "6. Whoever scores more is a winner. "
   ]
  },
  {
   "attachments": {},
   "cell_type": "markdown",
   "metadata": {},
   "source": [
    "First, starting off with creating a table with choosen dimensions A and B, values are entered by the users."
   ]
  },
  {
   "cell_type": "code",
   "execution_count": 2,
   "metadata": {},
   "outputs": [],
   "source": [
    "def create_table(row: int, col: int):\n",
    "    table = []\n",
    "    for i in range(row):\n",
    "        temp = (0)*col\n",
    "        table.append(temp)\n",
    "    return table"
   ]
  },
  {
   "cell_type": "code",
   "execution_count": null,
   "metadata": {},
   "outputs": [],
   "source": [
    "\"\"\"\n",
    "Things to do step by step:\n",
    "- First check the opponents whether the number they put match the number would be filled up in a column or row\n",
    "- Place an X in that row or column to break the prophecy if that happens. Else, put a number to guess whether that row or column is \n",
    "filled with how many numbers\n",
    "- Keep track of numbers and locations\n",
    "\"\"\""
   ]
  }
 ],
 "metadata": {
  "kernelspec": {
   "display_name": "Python 3",
   "language": "python",
   "name": "python3"
  },
  "language_info": {
   "codemirror_mode": {
    "name": "ipython",
    "version": 3
   },
   "file_extension": ".py",
   "mimetype": "text/x-python",
   "name": "python",
   "nbconvert_exporter": "python",
   "pygments_lexer": "ipython3",
   "version": "3.10.11"
  },
  "orig_nbformat": 4
 },
 "nbformat": 4,
 "nbformat_minor": 2
}
