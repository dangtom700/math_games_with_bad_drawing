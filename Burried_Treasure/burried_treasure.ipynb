{
 "cells": [
  {
   "attachments": {},
   "cell_type": "markdown",
   "metadata": {},
   "source": [
    "# Decription\n",
    "This is a game found on page 321 under the section of \"Information games\" in the book \"Math Games with Bad Drawings\", written by Ben Orlin.\n",
    "\n",
    "### *Initial Idea*\n",
    "\n",
    "This is a buffing game for honest people but sneaky in spirit. To begin, write letters A through I on individual scraps of paper. WIthout looking randomly give four scraps to one player. Then do the same for the number from 1 to 9. Keep them secret from your opponent. One number and one number will remain left over, which designates as where the treasure is burried\n",
    "\n",
    "On each turn, take 2 actions: \n",
    "- Ask your opponent if they hold a particular letter or number: they have to tell the truth\n",
    "- Propose a location to dig for the burried treasure: If your opponent holds either card, then they reply \"No treasure there\". If your opponent holds neither of the cards, they can say \"Actually, no treasure there\". If it's the second time saying that, they win the prize"
   ]
  },
  {
   "cell_type": "code",
   "execution_count": null,
   "metadata": {},
   "outputs": [],
   "source": [
    "from random import randint\n",
    "from string import ascii_uppercase\n",
    "\n",
    "size = 9\n",
    "letter_list = [letter for letter in ascii_uppercase[:size]]\n",
    "number_list = list(range(1, len(letter_list)+1))\n",
    "\n",
    "print(letter_list)\n",
    "print(number_list)"
   ]
  },
  {
   "attachments": {},
   "cell_type": "markdown",
   "metadata": {},
   "source": [
    "Then. there are four token randomly distribute to other players. In this case, there is only gonna be a game of 2. "
   ]
  },
  {
   "cell_type": "code",
   "execution_count": null,
   "metadata": {},
   "outputs": [],
   "source": [
    "def get_tokens(my_list: list):\n",
    "    token_list = []\n",
    "    for i in range(4):\n",
    "        token = my_list[randint(0,len(my_list)-1)]\n",
    "        my_list.remove(token)\n",
    "        token_list.append(token)\n",
    "    print(token_list)"
   ]
  },
  {
   "cell_type": "code",
   "execution_count": null,
   "metadata": {},
   "outputs": [],
   "source": [
    "def display_token_received(letter_list: list, number_list: list):\n",
    "    print(\"You receive letter tokens as following: \")\n",
    "    get_tokens(letter_list)\n",
    "    print(\"You receive number tokens as following: \")\n",
    "    get_tokens(number_list)"
   ]
  },
  {
   "attachments": {},
   "cell_type": "markdown",
   "metadata": {},
   "source": [
    "There are two choice for you to pick:\n",
    "- **To be the one to guess where the treasure is:** You have two chances to ask about one missing letter token and one missing number token. You also have two chances guess where the treasure is. "
   ]
  },
  {
   "cell_type": "code",
   "execution_count": null,
   "metadata": {},
   "outputs": [],
   "source": [
    "def guess_treasure(letter_list: list, number_list: list):\n",
    "    treasure_location = [letter_list[randint(0,len(letter_list)-1)], number_list[randint(0,len(number_list)-1)]]\n",
    "    letter_list.remove(treasure_location[0])\n",
    "    number_list.remove(treasure_location[1])\n",
    "    \n",
    "    CHANCE_LIMIT = 2\n",
    "\n",
    "    display_token_received(letter_list, number_list)\n",
    "\n",
    "    for i in range(CHANCE_LIMIT):\n",
    "        letter_guess = input(\"Guess the letter: \")\n",
    "        number_guess = input(\"Guess the number: \")\n",
    "        if letter_guess in letter_list:\n",
    "            print(\"I have that letter\")\n",
    "        else:\n",
    "            print(\"I don't have that letter\")\n",
    "\n",
    "        if number_guess in number_list:\n",
    "            print(\"I have that number\")\n",
    "        else:\n",
    "            print(\"I don't have that number\")\n",
    "        letter_guess = input(\"Guess the letter location of the treaure: \")\n",
    "        number_guess = input(\"Guess the number location of the treasure: \")\n",
    "        if letter_guess == treasure_location[0] and number_guess == treasure_location[1]:\n",
    "            print(\"You have found the location is the treasure at \", letter_guess, number_guess)\n",
    "        else:\n",
    "            print(\"Actually, the treasure is not there\")\n",
    "    else:\n",
    "        print(\"You haven't found out the treaure. It is now mine\")"
   ]
  },
  {
   "attachments": {},
   "cell_type": "markdown",
   "metadata": {},
   "source": [
    "- **To be the one to burried the treasure:** you first have to burried in a location that consists of one letter and one number that you own. You have to tell the truth about any missing token but not the token that reveals the treasure. You can also retend that the player have already ask about previous tokens. Once the player guess where the treasure is. The answer is either \"Actually, the treature is not there\" or \"You have found the treasure\"."
   ]
  },
  {
   "cell_type": "code",
   "execution_count": null,
   "metadata": {},
   "outputs": [],
   "source": [
    "def set_treasure_location(letter_list: list, number_list: list):\n",
    "    print(\"You receive letter tokens as following: \")\n",
    "    get_tokens(letter_list)\n",
    "    print(\"You receive number tokens as following: \")\n",
    "    get_tokens(number_list)\n",
    "\n",
    "    treasure_location_letter = input(\"Enter the letter part of the treasure's location: \")\n",
    "    while not treasure_location_letter in letter_list:\n",
    "        print(\"Here is your following choice: \", letter_list)\n",
    "        treasure_location_letter = input(\"Please enter the letter part of the treasure's location again: \")\n",
    "\n",
    "    treasure_location_number = input(\"Enter the number part of the treasure's location: \")\n",
    "    while not treasure_location_number in number_list:\n",
    "        print(\"Here is your following choice: \", number_list)\n",
    "        treasure_location_number = input(\"Please enter the number part of the treasure's location again: \")\n",
    "\n",
    "    letter_list.remove(treasure_location_letter)\n",
    "    number_list.remove(treasure_location_number) \n",
    "\n",
    "    return [treasure_location_letter, treasure_location_number]"
   ]
  },
  {
   "attachments": {},
   "cell_type": "markdown",
   "metadata": {},
   "source": [
    "This piece of code is used to set up a treasure's location with safety guard in case if the player doesn't know what token can be used. Return treasure's location to play the role of burrying the treasture."
   ]
  },
  {
   "cell_type": "code",
   "execution_count": null,
   "metadata": {},
   "outputs": [],
   "source": [
    "def respond_to_correct_guess(token, token_list: list):\n",
    "    print(\"A. You want to be sneaky\\nB. You want to be honest\")\n",
    "    choice = input(\"Choose A or B: \")\n",
    "    while not choice.upper in ['A', 'B']:\n",
    "        choice = input(\"There is no such choice like that. Please choose only A or B: \")\n",
    "\n",
    "    if choice == 'A':\n",
    "        print(\"I have that token\")\n",
    "        token_list.remove(token)\n",
    "    elif choice == 'B':\n",
    "        print(\"You have asked that already\")"
   ]
  },
  {
   "attachments": {},
   "cell_type": "markdown",
   "metadata": {},
   "source": [
    "There are 2 ways to respond to a correct guess. Either being sneaky, trick the player to not exclude that guess out, or being honest, the player can narrow down options for the next guess on treasure's location. "
   ]
  },
  {
   "cell_type": "code",
   "execution_count": null,
   "metadata": {},
   "outputs": [],
   "source": [
    "def burry_treasure(letter_list: list, number_list: list):\n",
    "    treasure_location = set_treasure_location(letter_list, number_list)\n",
    "    CHANCE_LIMIT = 2\n",
    "\n",
    "    # Play the game\n",
    "    for i in range(CHANCE_LIMIT):\n",
    "        computer_guess_letter = letter_list[randint(0, len(letter_list)-1)]\n",
    "        if computer_guess_letter in letter_list:\n",
    "            respond_to_correct_guess(computer_guess_letter, letter_list)\n",
    "        else:\n",
    "            print(\"I don't have that letter\")\n",
    "        \n",
    "        computer_guess_number = number_list[randint(0, len(number_list)-1)]\n",
    "        if computer_guess_number in number_list:\n",
    "            respond_to_correct_guess(computer_guess_number, number_list)\n",
    "        else:\n",
    "            print(\"I don't have that number\")\n",
    "\n",
    "        computer_guess_letter = letter_list[randint(0, len(letter_list)-1)]\n",
    "        computer_guess_number = number_list[randint(0, len(number_list)-1)]\n",
    "\n",
    "        if computer_guess_letter == treasure_location[0] and computer_guess_number == treasure_location[1]:\n",
    "            print(\"You can now have the treasure.\")\n",
    "        else:\n",
    "            print(\"Actually, the treasure is not there.\")"
   ]
  },
  {
   "cell_type": "code",
   "execution_count": null,
   "metadata": {},
   "outputs": [],
   "source": [
    "def main():\n",
    "    size = 9\n",
    "    letter_list = [letter for letter in ascii_uppercase[:size]]\n",
    "    number_list = list(range(1, len(letter_list)+1))\n",
    "    choice = input(\"You want to (A) guess or (B) bury the treasure. Enter A or B: \")\n",
    "    if choice == 'A':\n",
    "        guess_treasure(letter_list, number_list)\n",
    "    elif choice == 'B':\n",
    "        burry_treasure(letter_list, number_list)\n",
    "main()"
   ]
  }
 ],
 "metadata": {
  "kernelspec": {
   "display_name": "Python 3",
   "language": "python",
   "name": "python3"
  },
  "language_info": {
   "codemirror_mode": {
    "name": "ipython",
    "version": 3
   },
   "file_extension": ".py",
   "mimetype": "text/x-python",
   "name": "python",
   "nbconvert_exporter": "python",
   "pygments_lexer": "ipython3",
   "version": "3.11.3"
  },
  "orig_nbformat": 4
 },
 "nbformat": 4,
 "nbformat_minor": 2
}
