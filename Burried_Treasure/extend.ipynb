{
 "cells": [
  {
   "attachments": {},
   "cell_type": "markdown",
   "metadata": {},
   "source": [
    "# This is the extension of the \"burried Treasure\" game\n",
    "\n",
    "In this section, I want to fully automate the process of guessing and checking the treasure. I want to utilize the randomization of choice to see whether it is possible to improve time efficiency in that way.\n",
    "\n",
    "Life is always full of choices to choose but also alot of decisions to make. Sometimes, decisions are based on random hints that appear out of the thin air and no-one knows where they come from. My belief is that randomness contributes alot to our daily decision-making, except for major decision such as choosing to go to university or working full-time, or take a gap year. Some of the minor decisions we make just appear out of the thin air. Even when you try to recall what was the motives for those decision, it is impossible, simply because you did not fully aware of what factors/inputs you take into account. "
   ]
  },
  {
   "attachments": {},
   "cell_type": "markdown",
   "metadata": {},
   "source": [
    "# **When bots make random choices**\n",
    "\n",
    "This stimulation is about making a scenario when the bots randomize their choices and may produce a faster outcome. I want to compare that to when the bots make logical decisions. \n",
    "\n",
    "The general rules for this game is the location of the treasure must contain one letter and one number which represent its location. The hint is the location of the treasure is the token that both players don't have."
   ]
  },
  {
   "cell_type": "code",
   "execution_count": 11,
   "metadata": {},
   "outputs": [],
   "source": [
    "# modules and methods to import for code\n",
    "from random import randint\n",
    "from string import ascii_uppercase"
   ]
  },
  {
   "attachments": {},
   "cell_type": "markdown",
   "metadata": {},
   "source": [
    "### General function used for all method"
   ]
  },
  {
   "cell_type": "code",
   "execution_count": 12,
   "metadata": {},
   "outputs": [],
   "source": [
    "def receive_token(my_list: list, num_token_receive: int) -> list:\n",
    "    token_receive = []\n",
    "    for i in range(num_token_receive):\n",
    "        token = my_list[randint(0, len(my_list)-1)]\n",
    "        token_receive.append(token)\n",
    "        my_list.remove(token)\n",
    "    return token_receive"
   ]
  },
  {
   "attachments": {},
   "cell_type": "markdown",
   "metadata": {},
   "source": [
    "**To further specific how the bots can randomize their choices or making logical decisions,** there are 3 ways I want to stimulate in this game.\n",
    "\n",
    "The **first** method is randomizing all choices. The way it works is when one bot receives a list of token it received. It will m=imediately remove all that tokens out of the general token list as a way to narrow down the total of choices it can make. "
   ]
  },
  {
   "cell_type": "code",
   "execution_count": 13,
   "metadata": {},
   "outputs": [],
   "source": [
    "def guess_random(letter_to_guess: list, number_to_guess: list, treasure_location: str):\n",
    "    count_turn = 1\n",
    "    is_found_treasure_location_letter = False\n",
    "    is_found_treasure_location_number = False\n",
    "\n",
    "    while (True):\n",
    "        # Make a random guess\n",
    "        if is_found_treasure_location_letter == False:\n",
    "            guessing_letter = letter_to_guess[randint(0, len(letter_to_guess)-1)]\n",
    "            print(\"Is the treasure located at \", guessing_letter,\"?\")\n",
    "            if guessing_letter == treasure_location[0]:\n",
    "                is_found_treasure_location_letter = True\n",
    "                print(\"No, I don't have that letter\")\n",
    "            else: \n",
    "                letter_to_guess.remove(guessing_letter)\n",
    "                print(\"Yes, I have that letter\")\n",
    "        \n",
    "        if is_found_treasure_location_number == False:\n",
    "            guessing_number = number_to_guess[randint(0, len(number_to_guess)-1)]\n",
    "            print(\"Is the treasure located at \", guessing_number,\"?\")\n",
    "            if guessing_number == int(treasure_location[1]):\n",
    "                is_found_treasure_location_number = True\n",
    "                print(\"No, I don't have that number\")\n",
    "            else:\n",
    "                number_to_guess.remove(guessing_number)\n",
    "                print(\"Yes, I have that number\")\n",
    "        \n",
    "        if is_found_treasure_location_letter and is_found_treasure_location_number:\n",
    "            return count_turn\n",
    "\n",
    "        # Make a random guess about the treasure's location\n",
    "        if len(letter_to_guess) == 1 or len(number_to_guess) == 1:\n",
    "            return count_turn\n",
    "        \n",
    "        a = letter_to_guess[randint(0, len(letter_to_guess)-1)] == treasure_location[0]\n",
    "        b = number_to_guess[randint(0, len(number_to_guess)-1)] == int(treasure_location[1])\n",
    "        if  a  and b:\n",
    "            print(\"You have found the treasure\")\n",
    "            return count_turn\n",
    "        else:\n",
    "            print(\"Actually, the treasure is not there\")\n",
    "        count_turn +=1"
   ]
  },
  {
   "attachments": {},
   "cell_type": "markdown",
   "metadata": {},
   "source": [
    "The **second** method is by brute force. The mechanism is similar to the first method. One bot receives a list of tokens. Then, it will exclude all of that tokens out from the general list to narrow down the choices. However, instead of guessing randomly unitl correct, it will try one by one from left to right in ascending order. \n",
    "\n",
    "The way the game works is guessing the individual letter and number that the other player has. If that player has, then the treaure's location does not consist of those tokens. those tokens will be excluded from the guessing list and continue on with guessing where the treaure is. At this stage, treasure's location must be guessed as a whole, not individual components. If the treasure's location is not there, there are 2 cases that happen. One is the either of the component is wrong, which can be confirmed on the next round of guessing and continue with brute force guessing the other half. Two is both components are wrong, exclude both of them from the guessing list and continue on brute-force guessing."
   ]
  },
  {
   "cell_type": "code",
   "execution_count": 14,
   "metadata": {},
   "outputs": [],
   "source": [
    "def guess_brute_force(letter_to_guess: list, number_to_guess: list, treasure_location: str):\n",
    "    is_found_treasure_location_letter = False\n",
    "    is_found_treasure_location_number = False\n",
    "    count_turn = 1\n",
    "    i =0\n",
    "\n",
    "    while i < len(letter_to_guess):\n",
    "        # Guess letter and number individually\n",
    "        if is_found_treasure_location_letter == False:\n",
    "            guessing_letter = letter_to_guess[i]\n",
    "            print(\"Is the treasure located at \", guessing_letter,\"?\")\n",
    "            if guessing_letter == treasure_location[0]:\n",
    "                is_found_treasure_location_letter = True\n",
    "                print(\"No, I don't have that letter\")\n",
    "            else: \n",
    "                letter_to_guess.remove(guessing_letter)\n",
    "                print(\"Yes, I have that letter\")\n",
    "            \n",
    "        if is_found_treasure_location_number == False:\n",
    "            guessing_number = number_to_guess[i]\n",
    "            print(\"Is the treasure located at \", guessing_number,\"?\")\n",
    "            if guessing_number == int(treasure_location[1]):\n",
    "                is_found_treasure_location_number = True\n",
    "                print(\"No, I don't have that number\")\n",
    "            else:\n",
    "                number_to_guess.remove(guessing_number)\n",
    "                print(\"Yes, I have that number\")\n",
    "                \n",
    "        if is_found_treasure_location_letter and is_found_treasure_location_number:\n",
    "            return count_turn\n",
    "        \n",
    "        if len(letter_to_guess) <= 1 or len(number_to_guess) <= 1:\n",
    "            return count_turn\n",
    "        # Guess letter and number as a whole\n",
    "        guessing_letter2 = letter_to_guess[i+1]\n",
    "        guessing_number2 = number_to_guess[i+1]\n",
    "        if guessing_letter2 == treasure_location[0] and guessing_number2 == int(treasure_location[1]):\n",
    "            print(\"You have found the treasure\")\n",
    "            return count_turn\n",
    "        else:\n",
    "            print(\"Actually, the treasure is not there\")\n",
    "        count_turn += 1\n",
    "        \n",
    "    return -1"
   ]
  },
  {
   "attachments": {},
   "cell_type": "markdown",
   "metadata": {},
   "source": [
    "The **thrid** method is the combination of the **first** and **second** method. The way the algorithm works is this. First, the bot receives all the tokens like previous methods, in order to narrow down the choices it has to make. The choice is random but the guessing will be narrowed down as the game continue. "
   ]
  },
  {
   "cell_type": "code",
   "execution_count": 15,
   "metadata": {},
   "outputs": [],
   "source": [
    "def guess_brute_random(letter_to_guess: list, number_to_guess: list, treasure_location: str):\n",
    "    is_found_treasure_location_letter = False\n",
    "    is_found_treasure_location_number = False\n",
    "    count_turn = 1\n",
    "\n",
    "    while len(letter_to_guess) > 1 and len(number_to_guess) > 1:\n",
    "        # Guess letter and number individually\n",
    "        if len(letter_to_guess) > 1:\n",
    "            random_letter_idx = randint(0, len(letter_to_guess)-1)\n",
    "            guessing_letter = letter_to_guess[random_letter_idx]\n",
    "            print(\"Is the treasure located at \", guessing_letter,\"?\")\n",
    "            if guessing_letter == treasure_location[0]:\n",
    "                is_found_treasure_location_letter = True\n",
    "                print(\"No, I don't have that letter\")\n",
    "            else: \n",
    "                if len(letter_to_guess) == 0:\n",
    "                    return -1\n",
    "                letter_to_guess.remove(guessing_letter)\n",
    "                print(\"Yes, I have that letter\")\n",
    "        \n",
    "        if len(number_to_guess) > 1:\n",
    "            random_number_idx = randint(0, len(number_to_guess)-1)\n",
    "            guessing_number = number_to_guess[random_number_idx]\n",
    "            if guessing_number == int(treasure_location[1]):\n",
    "                is_found_treasure_location_number = True\n",
    "                print(\"No, I don't have that number\")\n",
    "            else:\n",
    "                if len(number_to_guess) == 0:\n",
    "                    return -1\n",
    "                number_to_guess.remove(guessing_number)\n",
    "                print(\"Yes, I have that number\")\n",
    "        \n",
    "        if is_found_treasure_location_letter == True and is_found_treasure_location_number == True:\n",
    "            return count_turn\n",
    "        \n",
    "        # Guess letter and number as a whole\n",
    "        if len(letter_to_guess) > 1 and len(number_to_guess) > 1:\n",
    "            guessing_letter2 = letter_to_guess[randint(0, len(letter_to_guess)-1)]\n",
    "            guessing_number2 = number_to_guess[randint(0, len(number_to_guess)-1)]\n",
    "            if guessing_letter2 == treasure_location[0] and guessing_number2 == int(treasure_location[1]):\n",
    "                print(\"You have found the treasure\")\n",
    "                return count_turn\n",
    "        else:\n",
    "            print(\"Actually, the treasure is not there\")\n",
    "        count_turn += 1\n",
    "    else:\n",
    "        return count_turn"
   ]
  },
  {
   "attachments": {},
   "cell_type": "markdown",
   "metadata": {},
   "source": [
    "Here is how the stimulation goes."
   ]
  },
  {
   "cell_type": "code",
   "execution_count": 16,
   "metadata": {},
   "outputs": [
    {
     "name": "stdout",
     "output_type": "stream",
     "text": [
      "['A', 'B', 'C', 'D', 'E', 'F', 'G', 'H', 'I']\n",
      "[1, 2, 3, 4, 5, 6, 7, 8, 9]\n",
      "F8\n",
      "['D', 'H', 'F', 'A']\n",
      "[4, 1, 3, 8]\n",
      "Is the treasure located at  C ?\n",
      "Yes, I have that letter\n",
      "Is the treasure located at  2 ?\n",
      "Yes, I have that number\n",
      "Actually, the treasure is not there\n",
      "Is the treasure located at  G ?\n",
      "Yes, I have that letter\n",
      "Is the treasure located at  5 ?\n",
      "Yes, I have that number\n",
      "Actually, the treasure is not there\n",
      "Is the treasure located at  B ?\n",
      "Yes, I have that letter\n",
      "Is the treasure located at  7 ?\n",
      "Yes, I have that number\n",
      "Actually, the treasure is not there\n",
      "Is the treasure located at  E ?\n",
      "Yes, I have that letter\n",
      "Is the treasure located at  9 ?\n",
      "Yes, I have that number\n",
      "Is the treasure located at  I ?\n",
      "Yes, I have that letter\n",
      "Is the treasure located at  6 ?\n",
      "Yes, I have that number\n",
      "4 1 1\n"
     ]
    }
   ],
   "source": [
    "size = 9\n",
    "letter_list = [letter for letter in ascii_uppercase[:size]]\n",
    "number_list = list(range(1, len(letter_list)+1))\n",
    "\n",
    "print(letter_list)\n",
    "print(number_list)\n",
    "\n",
    "treasure_location = letter_list[randint(0, len(letter_list)-1)] + str(number_list[randint(0, len(number_list)-1)])\n",
    "print(treasure_location)\n",
    "\n",
    "num_to_receive = 4\n",
    "letter_token_receive = receive_token(letter_list, num_to_receive)\n",
    "print(letter_token_receive)\n",
    "number_token_receive = receive_token(number_list, num_to_receive)\n",
    "print(number_token_receive)\n",
    "\n",
    "a1=guess_random(letter_list, number_list, treasure_location)\n",
    "a2 = guess_brute_force(letter_list, number_list, treasure_location)\n",
    "a3 = guess_brute_random(letter_list, number_list, treasure_location)\n",
    "\n",
    "print(a1, a2, a3)\n"
   ]
  }
 ],
 "metadata": {
  "kernelspec": {
   "display_name": "Python 3",
   "language": "python",
   "name": "python3"
  },
  "language_info": {
   "codemirror_mode": {
    "name": "ipython",
    "version": 3
   },
   "file_extension": ".py",
   "mimetype": "text/x-python",
   "name": "python",
   "nbconvert_exporter": "python",
   "pygments_lexer": "ipython3",
   "version": "3.11.3"
  },
  "orig_nbformat": 4
 },
 "nbformat": 4,
 "nbformat_minor": 2
}
