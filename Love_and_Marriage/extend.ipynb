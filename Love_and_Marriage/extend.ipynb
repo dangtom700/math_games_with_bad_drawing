{
 "cells": [
  {
   "attachments": {},
   "cell_type": "markdown",
   "metadata": {},
   "source": [
    "# This is the extenstion of the game Love and Marriage\n",
    "\n",
    "I want to extent beyond simple game. The original idea of this game is to find the partner and pair with them on the row of the highest number available. Now, I want to extend that idea beyond that. \n",
    "\n",
    "I always want to think about the asian-style marriage back in old day when the husband's side family has to work so hard in order to get married to his love one. By I mean working hard is to have huge properties that can secure both the husband and his future wife. In order for the marriage to happen, the future wife's side has to give an offer (or more often a challenge to the husband's side family) that they meet certain requirement in prosperity. That's only apply in the context that there are only one husband that want to marry his future wife. However, in the context of many male partners want to marry the same female individual, only the male partner that has the greatest amount of properties and prosperities is allowed to marry the individual. "
   ]
  },
  {
   "attachments": {},
   "cell_type": "markdown",
   "metadata": {},
   "source": [
    "# *Love Battle Stimulation*\n",
    "\n",
    "This stimulation is about replicating a pseudo situation of a society that has a strong custom in accepting the future wife's side family challenge. Assuming that there are more men in this society than women. Every woman holds a specific value and there is a challenge points based on that value and the row she's in (to represent the socio-economic status). A man who wants to marries her has to have the highest points compared to other men who are fighting for the same woman.\n",
    "\n",
    "To easier visualize how the stimulation looks like:\n",
    "|row|woman's value|challenge point| partner 1's value|...|partner N'svalue|\n",
    "|---|-------------|---------------|------------------|---|----------------|"
   ]
  },
  {
   "cell_type": "code",
   "execution_count": null,
   "metadata": {},
   "outputs": [],
   "source": [
    "from random import randint\n",
    "\n",
    "def create_stimulation_data(num_woman: int, challenge_limit: int, max_partner: int, inidividual_point_limit: int) -> list:\n",
    "    stimulation_data_set = []\n",
    "    \n",
    "    for row in range(1, num_woman+1):\n",
    "        temp = []\n",
    "        temp.append(row)\n",
    "        temp.append(randint(1, inidividual_point_limit) + randint(1,row))\n",
    "        # Represent the value that the woman challenge her other half/halves\n",
    "        temp.append(randint(1, challenge_limit + temp[1]))\n",
    "        number_of_partner= randint(1, max_partner)\n",
    "        for individual in range (number_of_partner):\n",
    "            # Represent the value that a man is willing to give up for marriage\n",
    "            temp.append(randint(1, inidividual_point_limit + challenge_limit)) \n",
    "        stimulation_data_set.append(temp)\n",
    "\n",
    "    return stimulation_data_set\n"
   ]
  },
  {
   "attachments": {},
   "cell_type": "markdown",
   "metadata": {},
   "source": [
    "To better explain how the stimulation works. First, starting off with the value or points that a single female individual holds, it is used to show how much that individual worth for marriage or for a happy-ever-after life. However, a happy marriage can be affected by socio-economic status of one or both partner. In this case, the status of the female's side contribute alot in a good marriage, while the male's is assumed to be insignificant. \n",
    "\n",
    "There are accepted value from man as well to reply to the challenge point that the female side offers. As a male individual that has the highest value in all the male challengers, he is the winner within all of them. However, he also has to be at least the challenge point in order for a marriage to happen. A happy-ever-after marriage requires the male individual's point 40% more than the challenge points and better than the female inidividual's value by 2.\n",
    "\n",
    "This stimulation has eliminated many factors, such as agreeableness of both sides, their tolerance value and so on, since marriage is hard subject in the data perspective."
   ]
  },
  {
   "cell_type": "code",
   "execution_count": null,
   "metadata": {},
   "outputs": [],
   "source": [
    "printed_stimulation_data = create_stimulation_data(25, 250, 5, 100)\n",
    "for i in range( len(printed_stimulation_data)):\n",
    "    print(printed_stimulation_data[i])"
   ]
  },
  {
   "cell_type": "code",
   "execution_count": null,
   "metadata": {},
   "outputs": [],
   "source": [
    "stimulation_data = create_stimulation_data(100, 150, 5, 100)\n",
    "\n",
    "def printing_marriage_success_data():\n",
    "    count_success =  0\n",
    "    marriage_success_data = []\n",
    "    for i in range( len(stimulation_data)):\n",
    "        male_competitor = stimulation_data[i][3::]\n",
    "        male_winner = max(male_competitor)\n",
    "        if male_winner >= stimulation_data[i][2]:\n",
    "            #print(stimulation_data[i][1], stimulation_data[i][2], male_winner)\n",
    "            temp = [stimulation_data[i][1], stimulation_data[i][2], male_winner]\n",
    "            marriage_success_data.append(temp)\n",
    "            count_success += 1\n",
    "    print(\"There are \", count_success, \" successful marriage in this stimulation run\")\n",
    "    return marriage_success_data\n",
    "\n",
    "def print_happy_ever_after_marriage():\n",
    "    count_success =  0\n",
    "    happy_ever_after_marriage = []\n",
    "    for i in range( len(stimulation_data)):\n",
    "        male_competitor = stimulation_data[i][3::]\n",
    "        male_winner = max(male_competitor)\n",
    "        challenge_factor = stimulation_data[i][2]*1.4\n",
    "        woman_factor = stimulation_data[i][1]*2\n",
    "        if male_winner >= challenge_factor and male_winner >= woman_factor:\n",
    "            #print(stimulation_data[i][1], stimulation_data[i][2], male_winner)\n",
    "            temp = [stimulation_data[i][1], stimulation_data[i][2], male_winner]\n",
    "            happy_ever_after_marriage.append(temp)\n",
    "            count_success += 1\n",
    "    print(\"There are \", count_success, \" happy-ever-after marriage in this stimulation run\")\n",
    "    return happy_ever_after_marriage\n",
    "          "
   ]
  },
  {
   "cell_type": "code",
   "execution_count": null,
   "metadata": {},
   "outputs": [],
   "source": [
    "from tabulate import tabulate\n",
    "my_headers = [\"Woman's value\", \"Challenge points\", \"Man's accepting points\"]\n",
    "a = printing_marriage_success_data()\n",
    "print(tabulate(a, headers=my_headers, tablefmt= 'grid'))"
   ]
  },
  {
   "cell_type": "code",
   "execution_count": null,
   "metadata": {},
   "outputs": [],
   "source": [
    "from tabulate import tabulate\n",
    "my_headers = [\"Woman's value\", \"Challenge points\", \"Man's accepting points\"]\n",
    "a = print_happy_ever_after_marriage()\n",
    "print(tabulate(a, headers=my_headers, tablefmt= 'grid'))"
   ]
  },
  {
   "attachments": {},
   "cell_type": "markdown",
   "metadata": {},
   "source": [
    "# **CONCLUSION**\n",
    "This is a pure experimentation with data. Marriage with challenge points is an inspiration source for this experiment. Even though, the data does not reflect anything in reality, the compatibity of such two individual for a happy marriage is hard to archieve whether or not there is such an obstacle as female side's family put up a challenge for the male side's to accept. There is a clear evidence that marriage without that obstacle is more archievable. \n",
    "\n",
    "In reality, the challenge points can be understand at a broader scale as the minimum bar for a man to overcome in order to engage with his other half. There are still a lot of for a man before he can get married, such as a healthy financial status, a good education background, a home to live in, a car for multiple purposes, a decent saving for travelling and retirement. "
   ]
  }
 ],
 "metadata": {
  "kernelspec": {
   "display_name": "Python 3",
   "language": "python",
   "name": "python3"
  },
  "language_info": {
   "codemirror_mode": {
    "name": "ipython",
    "version": 3
   },
   "file_extension": ".py",
   "mimetype": "text/x-python",
   "name": "python",
   "nbconvert_exporter": "python",
   "pygments_lexer": "ipython3",
   "version": "3.11.3"
  },
  "orig_nbformat": 4
 },
 "nbformat": 4,
 "nbformat_minor": 2
}
