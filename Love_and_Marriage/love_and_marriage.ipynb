{
 "cells": [
  {
   "attachments": {},
   "cell_type": "markdown",
   "metadata": {},
   "source": [
    "# Description\n",
    "This is a game found on page 144 under the section of \"Number games\" in the book \"Math Game with Bad Drawings\" written by Ben Orlin. \n",
    "\n",
    "### *Initial Idea*\n",
    "\n",
    "This games requires at least 15 players. With N players, begin by creating a deck of cards numberred from 1 through N+10. Also, creating a scoring track, with rows numbered from 100, all the way down to 5. Leave enough space in each row for two cards. \n",
    "To begin, a round, shuffle the deck of card, and give each player a card. On the word \"go\", everyone has three minutes to find a partner and place their paried cards in the highest open spot on the scoring track. \n",
    "\n",
    "## <b><i>Your score is computed by these criteria<i><b>\n",
    "\n",
    "- **Marrying fast**: you want to marry  as soon as you can, because you bas score is the label of your row. Early marries get bases like 90 and 85; late marries, 15 and 10\n",
    "- **Marrying close**: you want to marry  as close as possible, tp upir's partner's, because your base score is then divided by the difference between your two numbers.\n",
    "- **Marrying up**: the lower number in each marriage gets a 5-point bonus. The higher number gets no bonus."
   ]
  },
  {
   "cell_type": "code",
   "execution_count": 6,
   "metadata": {},
   "outputs": [],
   "source": [
    "from random import shuffle\n",
    "\n",
    "def create_deck_number(num_player: int, shuffle_time = 50) -> list:\n",
    "    deck_number = list(range (1, num_player+10+1))\n",
    "    for i in range(shuffle_time):\n",
    "        shuffle(deck_number)\n",
    "    return deck_number"
   ]
  },
  {
   "attachments": {},
   "cell_type": "markdown",
   "metadata": {},
   "source": [
    "With N players, there are N+10 number of cards staring from 1. Make sure they are already shuffled a number of times."
   ]
  },
  {
   "cell_type": "code",
   "execution_count": 7,
   "metadata": {},
   "outputs": [],
   "source": [
    "from random import randint\n",
    "\n",
    "def compute_marriage_point(minimum: int, maximum: int, num_player: int, shuffle_time = 50):\n",
    "    deck_number= create_deck_number(num_player,shuffle_time)\n",
    "    marriage_pairs_data = []\n",
    "    student_counter = 0\n",
    "    \n",
    "    #pick a number\n",
    "    for i in range(maximum, minimum-1, -1):\n",
    "        temp = [0]*4\n",
    "        temp[0] = i\n",
    "        if len(deck_number) == 0 or student_counter == num_player:\n",
    "                break\n",
    "        for j in range (1,2+1):\n",
    "            if len(deck_number) ==1:\n",
    "                temp[1] = deck_number[0]\n",
    "                temp[2] = 0\n",
    "                deck_number.remove(temp[1])\n",
    "                break\n",
    "            temp[j] = deck_number[randint(0, len(deck_number)-1)]\n",
    "            deck_number.remove(temp[j])\n",
    "            student_counter+=1\n",
    "        temp[3] = temp[0]/abs(temp[1]-temp[2])\n",
    "        marriage_pairs_data.append(temp)\n",
    "    return marriage_pairs_data"
   ]
  },
  {
   "attachments": {},
   "cell_type": "markdown",
   "metadata": {},
   "source": [
    "The most important part is computing the marriage point with the following formula the number labelled on the row divided by the difference between the two number that exist in that row. \n",
    "To do that, there has to be a structure to store the data including row number, first person, second person, and the marriage points. \n",
    "|row number|first number|second number|marriage points|\n",
    "|----------|------------|-------------|---------------|\n",
    "\n",
    "The above function is used to distributed randomly all the number in the deck_number. Once all the deck_number is distributed, computing all the marriage point. "
   ]
  },
  {
   "cell_type": "code",
   "execution_count": 8,
   "metadata": {},
   "outputs": [
    {
     "name": "stdout",
     "output_type": "stream",
     "text": [
      "┌──────────────┬────────────────┬─────────────────┬───────────────────┐\n",
      "│   row number │   first number │   second number │   marriage points │\n",
      "├──────────────┼────────────────┼─────────────────┼───────────────────┤\n",
      "│          100 │             32 │               8 │           4.16667 │\n",
      "├──────────────┼────────────────┼─────────────────┼───────────────────┤\n",
      "│           99 │             20 │              12 │          12.375   │\n",
      "├──────────────┼────────────────┼─────────────────┼───────────────────┤\n",
      "│           98 │             24 │              29 │          19.6     │\n",
      "├──────────────┼────────────────┼─────────────────┼───────────────────┤\n",
      "│           97 │             16 │              19 │          32.3333  │\n",
      "├──────────────┼────────────────┼─────────────────┼───────────────────┤\n",
      "│           96 │             35 │              13 │           4.36364 │\n",
      "├──────────────┼────────────────┼─────────────────┼───────────────────┤\n",
      "│           95 │              1 │              14 │           7.30769 │\n",
      "├──────────────┼────────────────┼─────────────────┼───────────────────┤\n",
      "│           94 │             15 │              34 │           4.94737 │\n",
      "├──────────────┼────────────────┼─────────────────┼───────────────────┤\n",
      "│           93 │              3 │              11 │          11.625   │\n",
      "├──────────────┼────────────────┼─────────────────┼───────────────────┤\n",
      "│           92 │              6 │              23 │           5.41176 │\n",
      "├──────────────┼────────────────┼─────────────────┼───────────────────┤\n",
      "│           91 │             10 │               4 │          15.1667  │\n",
      "├──────────────┼────────────────┼─────────────────┼───────────────────┤\n",
      "│           90 │             17 │               7 │           9       │\n",
      "├──────────────┼────────────────┼─────────────────┼───────────────────┤\n",
      "│           89 │             28 │               9 │           4.68421 │\n",
      "├──────────────┼────────────────┼─────────────────┼───────────────────┤\n",
      "│           88 │             31 │              22 │           9.77778 │\n",
      "├──────────────┼────────────────┼─────────────────┼───────────────────┤\n",
      "│           87 │             26 │               2 │           3.625   │\n",
      "├──────────────┼────────────────┼─────────────────┼───────────────────┤\n",
      "│           86 │              5 │              33 │           3.07143 │\n",
      "├──────────────┼────────────────┼─────────────────┼───────────────────┤\n",
      "│           85 │             18 │              27 │           9.44444 │\n",
      "├──────────────┼────────────────┼─────────────────┼───────────────────┤\n",
      "│           84 │             25 │              21 │          21       │\n",
      "├──────────────┼────────────────┼─────────────────┼───────────────────┤\n",
      "│           83 │             30 │               0 │           2.76667 │\n",
      "└──────────────┴────────────────┴─────────────────┴───────────────────┘\n"
     ]
    }
   ],
   "source": [
    "marriage_pairs_data = compute_marriage_point(8,100,25,50)\n",
    "my_headers = [\"row number\", \"first number\", \"second number\", \"marriage points\"]\n",
    "from tabulate import tabulate\n",
    "print(tabulate(marriage_pairs_data, headers= my_headers, tablefmt= 'simple_grid'))"
   ]
  }
 ],
 "metadata": {
  "kernelspec": {
   "display_name": "Python 3",
   "language": "python",
   "name": "python3"
  },
  "language_info": {
   "codemirror_mode": {
    "name": "ipython",
    "version": 3
   },
   "file_extension": ".py",
   "mimetype": "text/x-python",
   "name": "python",
   "nbconvert_exporter": "python",
   "pygments_lexer": "ipython3",
   "version": "3.11.3"
  },
  "orig_nbformat": 4
 },
 "nbformat": 4,
 "nbformat_minor": 2
}
