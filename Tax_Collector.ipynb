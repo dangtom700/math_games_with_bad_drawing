{
 "cells": [
  {
   "attachments": {},
   "cell_type": "markdown",
   "metadata": {},
   "source": [
    "# Description\n",
    "This is a game found on page 142 under the section \"Number games\" in the book \"Math Games with Bad Drawings\", written by Ben Orlin. \n",
    "\n",
    "### Initial Idea\n",
    "This game has circulated for more than 50 years an excercise for programming, introductory level.\n",
    "\n",
    "To begin, write down all of the whole number up to some ceiling, such as 12. Then, each turn, claim a number, and add it to your score. The Tax Collector receive all of the remaining numbers that it divide evenly.\n",
    "\n",
    "The challenge is that the Tax Collector must receive something on every turn. Keep going until the only remaining numbers have no divisors left, at which point the Tax Collector gets them all. "
   ]
  },
  {
   "cell_type": "code",
   "execution_count": null,
   "metadata": {},
   "outputs": [],
   "source": [
    "def forecast_tax_collector(remaining_number_list: list, number_pick: int):\n",
    "    current_number = 0\n",
    "    index = 0\n",
    "    current_number = remaining_number_list[index]\n",
    "\n",
    "    while current_number != number_pick:\n",
    "        if number_pick % current_number == 0:\n",
    "            return True\n",
    "        current_number = remaining_number_list[index]\n",
    "        index += 1\n",
    "    return False"
   ]
  },
  {
   "attachments": {},
   "cell_type": "markdown",
   "metadata": {},
   "source": [
    "This is the prototyping function for guessing whether the tax collector can collect something from the remaining of the number list. The way it works is simple. This function will brute force finding whether there are at least one number that the Tax Collector can collect.\n",
    "\n",
    "Because it is a brute-force algorithm, so it is simple to explain. First, because the number list are already in ascending order. The algorithm just simply compare one by one in ascendng order to see if the number player picked is divisible by that number as long as that number is less than the number the player picked.It return TRUE when there is one number that is less then the number the player picked and an evenly divisor. "
   ]
  },
  {
   "cell_type": "code",
   "execution_count": null,
   "metadata": {},
   "outputs": [],
   "source": [
    "def player_turn(remaining_number_list: list):\n",
    "    number_pick = int(input(\"Pick your number: \"))\n",
    "    print(\"You choose \", number_pick)\n",
    "\n",
    "    while number_pick not in remaining_number_list:\n",
    "        number_pick = int(input(\"The number does not exist. Re-enter a new number: \"))\n",
    "    \n",
    "    Is_tax_collector_happy = forecast_tax_collector(remaining_number_list, number_pick)\n",
    "    while Is_tax_collector_happy == False:\n",
    "        number_pick = int(input(\"The tax collector can not collect anything. Re-enter a new number: \"))\n",
    "        Is_tax_collector_happy = forecast_tax_collector(remaining_number_list, number_pick)\n",
    "    \n",
    "    return number_pick"
   ]
  },
  {
   "attachments": {},
   "cell_type": "markdown",
   "metadata": {},
   "source": [
    "What is going to happen in the player turn is the player has to pick up a number that has to be existed in the remaining list and that number has to be divisible to at least one number in that list. If neither of teh condition meet, the player has to pick a new number. \n",
    "\n",
    "This function returns the number that player pick in order to sum up the final result to compare with the tax collector's sum."
   ]
  },
  {
   "cell_type": "code",
   "execution_count": null,
   "metadata": {},
   "outputs": [],
   "source": [
    "def tax_collector_turn(remaining_number_list: list, player_number: int):\n",
    "    total_collect = 0\n",
    "    index = 0\n",
    "\n",
    "    while index < len(remaining_number_list):\n",
    "        remaining_number = remaining_number_list[index]\n",
    "        if player_number % remaining_number == 0:\n",
    "            if player_number > remaining_number:\n",
    "                total_collect += remaining_number\n",
    "                index -= 1\n",
    "            remaining_number_list.remove(remaining_number)\n",
    "        index += 1\n",
    "\n",
    "    return total_collect"
   ]
  },
  {
   "attachments": {},
   "cell_type": "markdown",
   "metadata": {},
   "source": [
    "What is going to happen in the tax collector turn is that the tax collector will automatically collect all the numbers that are divisible by the number that the player pick, but not the number player picked and they have to exist in the remaining list. \n",
    "\n",
    "This fucntion return the sum of all the number collected that is less than the number the player picked this turn in order to sum up at the end of the game and compare to the player's sum. This function also clean up all the number picked by the player and tax collector in this round. "
   ]
  },
  {
   "cell_type": "code",
   "execution_count": null,
   "metadata": {},
   "outputs": [],
   "source": [
    "ceiling_number = 15\n",
    "iterate_list = lambda n: [i for i in range(1, n+1)]\n",
    "num_list = iterate_list(ceiling_number)\n",
    "\n",
    "player_sum = 0\n",
    "tax_collector_sum = 0\n",
    "Is_continue_game = True\n",
    "\n",
    "while Is_continue_game == True:\n",
    "    print(\"The current number list: \",num_list)\n",
    "    num_player_pick = player_turn(num_list)\n",
    "    player_sum += num_player_pick\n",
    "    total_collect_this_round = tax_collector_turn(num_list, num_player_pick)\n",
    "    tax_collector_sum += total_collect_this_round\n",
    "    Quit_game = input(\"Do you want to quit now? Press 'q' to quit the game: \")\n",
    "    if Quit_game.lower() == 'q':\n",
    "        Is_continue_game = False\n",
    "    \n",
    "\n",
    "if tax_collector_sum >= player_sum:\n",
    "    print(\"You have lost against the tax collector\")\n",
    "else:\n",
    "    print(\"You have won against the tax collector\")\n",
    "print(\"Tax collector's sum is \", tax_collector_sum)\n",
    "print(\"Your sum is \", player_sum)"
   ]
  },
  {
   "attachments": {},
   "cell_type": "markdown",
   "metadata": {},
   "source": [
    "The game starts introducing a full number list in ascending order. For every round, the player has to choose a number in that list. There are two functions that check whether that number is within the given list and makes the tax collector happy. Then, thtx collector will automatically collect all the numbers that are divisible to the number player picked. The number player picked and the total tax collector collect every round will be added in end of each round to compare after the game ends. When the tax collector finishes his job, the game will ask whether the player want to continue the game. The next round is be started off with the remaining numbers in the same list."
   ]
  }
 ],
 "metadata": {
  "kernelspec": {
   "display_name": "base",
   "language": "python",
   "name": "python3"
  },
  "language_info": {
   "codemirror_mode": {
    "name": "ipython",
    "version": 3
   },
   "file_extension": ".py",
   "mimetype": "text/x-python",
   "name": "python",
   "nbconvert_exporter": "python",
   "pygments_lexer": "ipython3",
   "version": "3.10.11"
  },
  "orig_nbformat": 4
 },
 "nbformat": 4,
 "nbformat_minor": 2
}
