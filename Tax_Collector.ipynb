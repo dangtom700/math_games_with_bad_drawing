{
 "cells": [
  {
   "attachments": {},
   "cell_type": "markdown",
   "metadata": {},
   "source": [
    "# Description\n",
    "This is a game found on page 28 under the section \"Spatial games\" in the book \"Math Games with Bad Drawings\", written by Ben Orlin. \n",
    "\n",
    "### Initial Idea\n",
    " "
   ]
  }
 ],
 "metadata": {
  "language_info": {
   "name": "python"
  },
  "orig_nbformat": 4
 },
 "nbformat": 4,
 "nbformat_minor": 2
}
