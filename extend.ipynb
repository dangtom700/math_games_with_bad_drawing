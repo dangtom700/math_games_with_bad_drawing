{
 "cells": [
  {
   "attachments": {},
   "cell_type": "markdown",
   "metadata": {},
   "source": [
    "# This is the extension of the game Tax Collector\n",
    "\n",
    "As it was stated in the note, this is one of the game that introduces to the greedy algorithms in computer science. "
   ]
  },
  {
   "attachments": {},
   "cell_type": "markdown",
   "metadata": {},
   "source": [
    "A **greedy algorithm** is an approach for solving a problem by selecting the best option available at the moment, and ignoring the overall optimal result. The algorithm never reverses the earlier desicion even if the choice is wrong. It works in a top-down approach."
   ]
  },
  {
   "attachments": {},
   "cell_type": "markdown",
   "metadata": {},
   "source": [
    "# **Property**\n",
    "If an optimal solution to the problem can be found by choosing the best choice at each step without reconsidering the previous steps once shoosen, the proble can be solved by using a greedy approach. \n",
    "If the optimal overall solution to the problem corresponds to the optimal solution to its subproblems, then the problem can be solved using a greedy approach."
   ]
  },
  {
   "attachments": {},
   "cell_type": "markdown",
   "metadata": {},
   "source": [
    "### **Advantages and Disadvantages**\n",
    "Advantages:\n",
    "- The algorithm is easier to describe.\n",
    "- This algorithm can perform better than other algorithms (but, not in all cases).\n",
    "\n",
    "Disadvantages:\n",
    "- The greedy algorithm doesn't always produce the optimal solution."
   ]
  },
  {
   "attachments": {},
   "cell_type": "markdown",
   "metadata": {},
   "source": [
    "**Greedy Algorithm**\n",
    "1. To begin with, the solution set (containing answers) is empty.\n",
    "2. At each step, an item is added to the solution set until a solution is reached.\n",
    "3. If the solution set is feasible, the current item is kept.\n",
    "4. Else, the item is rejected and never considered again."
   ]
  },
  {
   "attachments": {},
   "cell_type": "markdown",
   "metadata": {},
   "source": [
    "**Examples of greedy approach**\n",
    "- Selection Sort\n",
    "- Knapsack Problem\n",
    "- Minimum Spanning Tree\n",
    "- Single-Source Shortest Path Problem"
   ]
  },
  {
   "attachments": {},
   "cell_type": "markdown",
   "metadata": {},
   "source": [
    "**Looking back at the \"tax collector\" game**\n",
    "\n",
    "Knowing that every round you pick up a number. That number has to satisfy two conditions:\n",
    "- The number has to be within the given list of number.\n",
    "- That number has to be evenly divided by at least one number(this number has to be lesser than that number) in the same list.\n",
    "\n",
    "After a few trials, observations are found:\n",
    "- It's guranteed that the tax collector will always have at least 1 points after the first round, since the every number is divisible by one and the player can not pick the number one. \n",
    "- After the first round finished, all the prime numbers can not be picked by the player because 1 is already removed in the first round. "
   ]
  },
  {
   "cell_type": "code",
   "execution_count": null,
   "metadata": {},
   "outputs": [],
   "source": [
    "def is_prime(num: int):\n",
    "    if num <= 1:\n",
    "        return False\n",
    "    for i in range(2, num/2+1):\n",
    "        if num % i == 0:\n",
    "            return False\n",
    "    return True"
   ]
  },
  {
   "cell_type": "code",
   "execution_count": null,
   "metadata": {},
   "outputs": [],
   "source": [
    "def generate_prime_number_list(num_list: list):\n",
    "    prime_number_list = []\n",
    "    \n",
    "    for num in num_list:\n",
    "        Is_prime_number = is_prime(num)\n",
    "        if Is_prime_number == True:\n",
    "            prime_number_list.append(num)\n",
    "\n",
    "    return prime_number_list"
   ]
  },
  {
   "cell_type": "code",
   "execution_count": null,
   "metadata": {},
   "outputs": [],
   "source": [
    "def binary_search(arr, low, high, x):\n",
    "    if high >= low:\n",
    "        mid = (high + low) // 2\n",
    "        if arr[mid] == x:\n",
    "            return mid\n",
    "        elif arr[mid] > x:\n",
    "            return binary_search(arr, low, mid - 1, x)\n",
    "        else:\n",
    "            return binary_search(arr, mid + 1, high, x)\n",
    "    else:\n",
    "        return -1"
   ]
  },
  {
   "cell_type": "code",
   "execution_count": null,
   "metadata": {},
   "outputs": [],
   "source": [
    "def forecast_tax_collector(remaining_number_list: list, number_pick: int):\n",
    "    current_number = 0\n",
    "    index = 0\n",
    "    current_number = remaining_number_list[index]\n",
    "\n",
    "    while current_number != number_pick:\n",
    "        if number_pick % current_number == 0:\n",
    "            return True\n",
    "        current_number = remaining_number_list[index]\n",
    "        index += 1\n",
    "    return False"
   ]
  },
  {
   "cell_type": "code",
   "execution_count": null,
   "metadata": {},
   "outputs": [],
   "source": [
    "def player_turn(remaining_number_list: list):\n",
    "    number_pick = int(input(\"Pick your number: \"))\n",
    "    print(\"You choose \", number_pick)\n",
    "\n",
    "    while number_pick not in remaining_number_list:\n",
    "        number_pick = int(input(\"The number does not exist. Re-enter a new number: \"))\n",
    "    \n",
    "    Is_tax_collector_happy = forecast_tax_collector(remaining_number_list, number_pick)\n",
    "    while Is_tax_collector_happy == False:\n",
    "        number_pick = int(input(\"The tax collector can not collect anything. Re-enter a new number: \"))\n",
    "        Is_tax_collector_happy = forecast_tax_collector(remaining_number_list, number_pick)\n",
    "    \n",
    "    return number_pick"
   ]
  },
  {
   "cell_type": "code",
   "execution_count": null,
   "metadata": {},
   "outputs": [],
   "source": [
    "def tax_collector_turn(remaining_number_list: list, player_number: int):\n",
    "    total_collect = 0\n",
    "    index = 0\n",
    "\n",
    "    while index < len(remaining_number_list):\n",
    "        remaining_number = remaining_number_list[index]\n",
    "        if player_number % remaining_number == 0:\n",
    "            if player_number > remaining_number:\n",
    "                total_collect += remaining_number\n",
    "                index -= 1\n",
    "            remaining_number_list.remove(remaining_number)\n",
    "        index += 1\n",
    "\n",
    "    return total_collect"
   ]
  },
  {
   "cell_type": "code",
   "execution_count": null,
   "metadata": {},
   "outputs": [],
   "source": [
    "ceiling_number = 15\n",
    "iterate_list = lambda n: [i for i in range(1, n+1)]\n",
    "num_list = iterate_list(ceiling_number)\n",
    "\n",
    "player_sum = 0\n",
    "tax_collector_sum = 0\n",
    "Is_continue_game = True\n",
    "\n",
    "while Is_continue_game == True:\n",
    "    print(\"The current number list: \",num_list)\n",
    "    num_player_pick = player_turn(num_list)\n",
    "    player_sum += num_player_pick\n",
    "    total_collect_this_round = tax_collector_turn(num_list, num_player_pick)\n",
    "    tax_collector_sum += total_collect_this_round\n",
    "    Quit_game = input(\"Do you want to quit now? Press 'q' to quit the game: \")\n",
    "    if Quit_game.lower() == 'q':\n",
    "        Is_continue_game = False\n",
    "    \n",
    "\n",
    "if tax_collector_sum >= player_sum:\n",
    "    print(\"You have lost against the tax collector\")\n",
    "else:\n",
    "    print(\"You have won against the tax collector\")\n",
    "print(\"Tax collector's sum is \", tax_collector_sum)\n",
    "print(\"Your sum is \", player_sum)"
   ]
  }
 ],
 "metadata": {
  "language_info": {
   "name": "python"
  },
  "orig_nbformat": 4
 },
 "nbformat": 4,
 "nbformat_minor": 2
}
